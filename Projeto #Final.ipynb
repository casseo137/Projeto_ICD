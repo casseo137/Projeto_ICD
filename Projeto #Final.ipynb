{
 "cells": [
  {
   "cell_type": "markdown",
   "metadata": {},
   "source": [
    "**Análise dos Vencedores do Oscar entre 1929 - 2019**\n",
    "\n",
    "**Integrante:**\n",
    "\n",
    " - Jose Cássio Silva Souza"
   ]
  },
  {
   "cell_type": "markdown",
   "metadata": {},
   "source": [
    "**Introdução**\n",
    "\n",
    "Nesse projeto foi usado a dataset do site (https://www.openintro.org/data/) que consta os vencedores da premiação do Oscar em noventa anos (1929 - 2019)\n",
    "\n",
    "O Oscar é a premiação mais importante do cinema mundial que inclui diversas categorias dentre elas:\n",
    "Melhor Ator; Melhor Atriz; Melhor Diretor; Melhor Filmes; Melhor Filme Estrangeiro e muito mais. Ocorre desde 1927, é realizada na cidade de Los Angeles, Califórnia - Estados Unidos.\n",
    "\n",
    "Nesse projeto será abordado análises em dados sobre a categoria de Melhor Ator e Melhor Atriz.\n"
   ]
  },
  {
   "cell_type": "markdown",
   "metadata": {},
   "source": [
    "**Dados Usados**\n",
    " \n",
    " - Para os dados usados foi requerido o dataset do site OpenIntro. \n"
   ]
  },
  {
   "cell_type": "code",
   "execution_count": 36,
   "metadata": {},
   "outputs": [],
   "source": [
    "import pandas as pd"
   ]
  },
  {
   "cell_type": "code",
   "execution_count": 9,
   "metadata": {},
   "outputs": [
    {
     "data": {
      "text/html": [
       "<div>\n",
       "<style scoped>\n",
       "    .dataframe tbody tr th:only-of-type {\n",
       "        vertical-align: middle;\n",
       "    }\n",
       "\n",
       "    .dataframe tbody tr th {\n",
       "        vertical-align: top;\n",
       "    }\n",
       "\n",
       "    .dataframe thead th {\n",
       "        text-align: right;\n",
       "    }\n",
       "</style>\n",
       "<table border=\"1\" class=\"dataframe\">\n",
       "  <thead>\n",
       "    <tr style=\"text-align: right;\">\n",
       "      <th></th>\n",
       "      <th>oscar_no</th>\n",
       "      <th>oscar_yr</th>\n",
       "      <th>award</th>\n",
       "      <th>name</th>\n",
       "      <th>movie</th>\n",
       "      <th>age</th>\n",
       "      <th>birth_pl</th>\n",
       "      <th>birth_date</th>\n",
       "      <th>birth_mo</th>\n",
       "      <th>birth_d</th>\n",
       "      <th>birth_y</th>\n",
       "    </tr>\n",
       "  </thead>\n",
       "  <tbody>\n",
       "    <tr>\n",
       "      <th>0</th>\n",
       "      <td>1</td>\n",
       "      <td>1929</td>\n",
       "      <td>Best actress</td>\n",
       "      <td>Janet Gaynor</td>\n",
       "      <td>7th Heaven</td>\n",
       "      <td>22</td>\n",
       "      <td>Pennsylvania</td>\n",
       "      <td>1906-10-06</td>\n",
       "      <td>10</td>\n",
       "      <td>6</td>\n",
       "      <td>1906</td>\n",
       "    </tr>\n",
       "    <tr>\n",
       "      <th>1</th>\n",
       "      <td>2</td>\n",
       "      <td>1930</td>\n",
       "      <td>Best actress</td>\n",
       "      <td>Mary Pickford</td>\n",
       "      <td>Coquette</td>\n",
       "      <td>37</td>\n",
       "      <td>Canada</td>\n",
       "      <td>1892-04-08</td>\n",
       "      <td>4</td>\n",
       "      <td>8</td>\n",
       "      <td>1892</td>\n",
       "    </tr>\n",
       "    <tr>\n",
       "      <th>2</th>\n",
       "      <td>3</td>\n",
       "      <td>1931</td>\n",
       "      <td>Best actress</td>\n",
       "      <td>Norma Shearer</td>\n",
       "      <td>The Divorcee</td>\n",
       "      <td>28</td>\n",
       "      <td>Canada</td>\n",
       "      <td>1902-08-10</td>\n",
       "      <td>8</td>\n",
       "      <td>10</td>\n",
       "      <td>1902</td>\n",
       "    </tr>\n",
       "    <tr>\n",
       "      <th>3</th>\n",
       "      <td>4</td>\n",
       "      <td>1932</td>\n",
       "      <td>Best actress</td>\n",
       "      <td>Marie Dressler</td>\n",
       "      <td>Min and Bill</td>\n",
       "      <td>63</td>\n",
       "      <td>Canada</td>\n",
       "      <td>1868-11-09</td>\n",
       "      <td>11</td>\n",
       "      <td>9</td>\n",
       "      <td>1868</td>\n",
       "    </tr>\n",
       "    <tr>\n",
       "      <th>4</th>\n",
       "      <td>5</td>\n",
       "      <td>1933</td>\n",
       "      <td>Best actress</td>\n",
       "      <td>Helen Hayes</td>\n",
       "      <td>The Sin of Madelon Claudet</td>\n",
       "      <td>32</td>\n",
       "      <td>Washington DC</td>\n",
       "      <td>1900-10-10</td>\n",
       "      <td>10</td>\n",
       "      <td>10</td>\n",
       "      <td>1900</td>\n",
       "    </tr>\n",
       "    <tr>\n",
       "      <th>...</th>\n",
       "      <td>...</td>\n",
       "      <td>...</td>\n",
       "      <td>...</td>\n",
       "      <td>...</td>\n",
       "      <td>...</td>\n",
       "      <td>...</td>\n",
       "      <td>...</td>\n",
       "      <td>...</td>\n",
       "      <td>...</td>\n",
       "      <td>...</td>\n",
       "      <td>...</td>\n",
       "    </tr>\n",
       "    <tr>\n",
       "      <th>179</th>\n",
       "      <td>87</td>\n",
       "      <td>2015</td>\n",
       "      <td>Best actor</td>\n",
       "      <td>Eddie Redmayne</td>\n",
       "      <td>The Theory of Everything</td>\n",
       "      <td>32</td>\n",
       "      <td>England</td>\n",
       "      <td>1982-01-06</td>\n",
       "      <td>1</td>\n",
       "      <td>6</td>\n",
       "      <td>1982</td>\n",
       "    </tr>\n",
       "    <tr>\n",
       "      <th>180</th>\n",
       "      <td>88</td>\n",
       "      <td>2016</td>\n",
       "      <td>Best actor</td>\n",
       "      <td>Leonardo Di Caprio</td>\n",
       "      <td>The Revenant</td>\n",
       "      <td>41</td>\n",
       "      <td>California</td>\n",
       "      <td>1974-11-11</td>\n",
       "      <td>11</td>\n",
       "      <td>11</td>\n",
       "      <td>1974</td>\n",
       "    </tr>\n",
       "    <tr>\n",
       "      <th>181</th>\n",
       "      <td>89</td>\n",
       "      <td>2017</td>\n",
       "      <td>Best actor</td>\n",
       "      <td>Casey Affleck</td>\n",
       "      <td>Manchester by the Sa</td>\n",
       "      <td>41</td>\n",
       "      <td>Massachusetts</td>\n",
       "      <td>1975-08-12</td>\n",
       "      <td>8</td>\n",
       "      <td>12</td>\n",
       "      <td>1975</td>\n",
       "    </tr>\n",
       "    <tr>\n",
       "      <th>182</th>\n",
       "      <td>90</td>\n",
       "      <td>2018</td>\n",
       "      <td>Best actor</td>\n",
       "      <td>Gary Oldman</td>\n",
       "      <td>Darkest Hour</td>\n",
       "      <td>59</td>\n",
       "      <td>England</td>\n",
       "      <td>1958-03-21</td>\n",
       "      <td>3</td>\n",
       "      <td>21</td>\n",
       "      <td>1958</td>\n",
       "    </tr>\n",
       "    <tr>\n",
       "      <th>183</th>\n",
       "      <td>91</td>\n",
       "      <td>2019</td>\n",
       "      <td>Best actor</td>\n",
       "      <td>Rami Malek</td>\n",
       "      <td>Bohemian Rhapsody</td>\n",
       "      <td>37</td>\n",
       "      <td>California</td>\n",
       "      <td>1981-05-12</td>\n",
       "      <td>5</td>\n",
       "      <td>12</td>\n",
       "      <td>1981</td>\n",
       "    </tr>\n",
       "  </tbody>\n",
       "</table>\n",
       "<p>184 rows × 11 columns</p>\n",
       "</div>"
      ],
      "text/plain": [
       "     oscar_no  oscar_yr         award                name  \\\n",
       "0           1      1929  Best actress        Janet Gaynor   \n",
       "1           2      1930  Best actress       Mary Pickford   \n",
       "2           3      1931  Best actress       Norma Shearer   \n",
       "3           4      1932  Best actress      Marie Dressler   \n",
       "4           5      1933  Best actress         Helen Hayes   \n",
       "..        ...       ...           ...                 ...   \n",
       "179        87      2015    Best actor      Eddie Redmayne   \n",
       "180        88      2016    Best actor  Leonardo Di Caprio   \n",
       "181        89      2017    Best actor       Casey Affleck   \n",
       "182        90      2018    Best actor         Gary Oldman   \n",
       "183        91      2019    Best actor          Rami Malek   \n",
       "\n",
       "                          movie  age       birth_pl  birth_date  birth_mo  \\\n",
       "0                    7th Heaven   22   Pennsylvania  1906-10-06        10   \n",
       "1                      Coquette   37         Canada  1892-04-08         4   \n",
       "2                  The Divorcee   28         Canada  1902-08-10         8   \n",
       "3                  Min and Bill   63         Canada  1868-11-09        11   \n",
       "4    The Sin of Madelon Claudet   32  Washington DC  1900-10-10        10   \n",
       "..                          ...  ...            ...         ...       ...   \n",
       "179    The Theory of Everything   32        England  1982-01-06         1   \n",
       "180                The Revenant   41     California  1974-11-11        11   \n",
       "181        Manchester by the Sa   41  Massachusetts  1975-08-12         8   \n",
       "182                Darkest Hour   59        England  1958-03-21         3   \n",
       "183           Bohemian Rhapsody   37     California  1981-05-12         5   \n",
       "\n",
       "     birth_d  birth_y  \n",
       "0          6     1906  \n",
       "1          8     1892  \n",
       "2         10     1902  \n",
       "3          9     1868  \n",
       "4         10     1900  \n",
       "..       ...      ...  \n",
       "179        6     1982  \n",
       "180       11     1974  \n",
       "181       12     1975  \n",
       "182       21     1958  \n",
       "183       12     1981  \n",
       "\n",
       "[184 rows x 11 columns]"
      ]
     },
     "execution_count": 9,
     "metadata": {},
     "output_type": "execute_result"
    }
   ],
   "source": [
    "film = pd.read_csv(\"oscars.csv\")\n",
    "film"
   ]
  },
  {
   "cell_type": "markdown",
   "metadata": {},
   "source": [
    "**Exploração Inicial**\n",
    "\n",
    "Na exploração inicial foi usado o dataset sobre o Oscar e seus respectivos ganhadores na categoria de Melhor Ator/Atriz. foi apresentado as perguntas e nela a média, mediana e o desvio padrão das mesmas.\n",
    "\n",
    "*As perguntas:*\n",
    " - Quais e quantos atores que venceram mais de uma vez a premiação do Oscar?\n",
    " - Quais e quantos atores ingleses que venceram o Oscar?\n",
    " - Quais e quantos filme que se consagram com o Oscar de Melhor Ator e Melhor Atriz?\n",
    " \n",
    "A seguir serão mostrados os calculos das medidas de centralidade e dispersão:"
   ]
  },
  {
   "cell_type": "markdown",
   "metadata": {},
   "source": [
    "**Quais e quantos atores venceram mais de uma vez o Oscar de Melhor Ator e Melhor Atriz?**"
   ]
  },
  {
   "cell_type": "code",
   "execution_count": 37,
   "metadata": {},
   "outputs": [
    {
     "name": "stdout",
     "output_type": "stream",
     "text": [
      "name    22\n",
      "dtype: int64\n",
      "                     name\n",
      "Katharine Hepburn       4\n",
      "Daniel Day-Lewis        3\n",
      "Olivia de Havilland     2\n",
      "Vivien Leigh            2\n",
      "Sally Field             2\n",
      "Jack Nicholson          2\n",
      "Bette Davis             2\n",
      "Marlon Brando           2\n",
      "Meryl Streep            2\n",
      "Glenda Jackson          2\n",
      "Gary Cooper             2\n",
      "Fredric March           2\n",
      "Sean Penn               2\n",
      "Frances McDormand       2\n",
      "Luise Rainer            2\n",
      "Jane Fonda              2\n",
      "Spencer Tracy           2\n",
      "Dustin Hoffman          2\n",
      "Jodie Foster            2\n",
      "Tom Hanks               2\n",
      "Hilary Swank            2\n",
      "Ingrid Bergman          2\n"
     ]
    }
   ],
   "source": [
    "ator = film.name.value_counts().to_frame()\n",
    "ator = ator.loc[ator.name >1, [\"name\"]]\n",
    "print(ator.count())\n",
    "print(ator)"
   ]
  },
  {
   "cell_type": "markdown",
   "metadata": {},
   "source": [
    "*Média, Mediana e Desvio Padrão (e o Boxplot) dos vencedores do Oscar por mais de uma vez na categoria Melhor Ator/Atriz:*"
   ]
  },
  {
   "cell_type": "code",
   "execution_count": 13,
   "metadata": {
    "scrolled": false
   },
   "outputs": [
    {
     "name": "stdout",
     "output_type": "stream",
     "text": [
      "Média de todos os atores vencedores do Oscar:  1.1572327044025157\n",
      "Média de todos os atores vencedores do Oscar em mais de uma ocasião name    2.136364\n",
      "dtype: float64\n",
      "Mediana de todos os atores vencedores do Oscar:  1.0\n",
      "Mediana de todos os atores vencedores do Oscar em mais de uma ocasião name    2.0\n",
      "dtype: float64\n",
      "O Desvio Padrão de todos os atores vencedores do Oscar:  0.42893142461810535\n",
      "O Desvio Padrão os atores vencedores do Oscar em mais de uma ocasião name    0.467563\n",
      "dtype: float64\n"
     ]
    },
    {
     "data": {
      "image/png": "[encoded data removed]",
      "text/plain": [
       "<Figure size 432x288 with 1 Axes>"
      ]
     },
     "metadata": {
      "needs_background": "light"
     },
     "output_type": "display_data"
    }
   ],
   "source": [
    "ator_md = film.name.value_counts().mean()\n",
    "ator_mdX = ator.loc[ator.name >1, [\"name\"]].mean()\n",
    "ator_med = film.name.value_counts().median()\n",
    "ator_medX = ator.loc[ator.name >1, [\"name\"]].median()\n",
    "ator_dp = film.name.value_counts().std()\n",
    "ator_dpe = ator.loc[ator.name >1, [\"name\"]].std()\n",
    "ator = ator.boxplot(column=\"name\")\n",
    "print(\"Média de todos os atores vencedores do Oscar: \", ator_md)\n",
    "print(\"Média de todos os atores vencedores do Oscar em mais de uma ocasião\", ator_mdX)\n",
    "print(\"Mediana de todos os atores vencedores do Oscar: \", ator_med)\n",
    "print(\"Mediana de todos os atores vencedores do Oscar em mais de uma ocasião\", ator_medX)\n",
    "print(\"O Desvio Padrão de todos os atores vencedores do Oscar: \", ator_dp)\n",
    "print(\"O Desvio Padrão os atores vencedores do Oscar em mais de uma ocasião\", ator_dpe)"
   ]
  },
  {
   "cell_type": "markdown",
   "metadata": {},
   "source": [
    "**Quais e quantos atores ingleses venceram o Oscar?**"
   ]
  },
  {
   "cell_type": "code",
   "execution_count": 43,
   "metadata": {},
   "outputs": [
    {
     "name": "stdout",
     "output_type": "stream",
     "text": [
      "name    26\n",
      "dtype: int64\n",
      "                  name\n",
      "Daniel Day-Lewis     3\n",
      "Glenda Jackson       2\n",
      "Victor McLaglen      1\n",
      "Olivia Colman        1\n",
      "Robert Donat         1\n",
      "Peter Finch          1\n",
      "Helen Mirren         1\n",
      "Jessica Tandy        1\n",
      "Maggie Smith         1\n",
      "Colin Firth          1\n",
      "Ronald Colman        1\n",
      "Laurence Olivier     1\n",
      "Charles Laughton     1\n",
      "Kate Winslet         1\n",
      "Elizabeth Taylor     1\n",
      "Julie Andrews        1\n",
      "Greer Garson         1\n",
      "Rex Harrison         1\n",
      "Gary Oldman          1\n",
      "Elisabeth Taylor     1\n",
      "Alec Guinness        1\n",
      "Ben Kingsley         1\n",
      "Emma Thompson        1\n",
      "Eddie Redmayne       1\n",
      "George Arliss        1\n",
      "Paul Scofield        1\n"
     ]
    }
   ],
   "source": [
    "ator_eng = film[film[\"birth_pl\"] == \"England\"]\n",
    "ator_eng_one = ator_eng.name.value_counts().to_frame()\n",
    "print(ator_eng_one.count())\n",
    "print(ator_eng_one)"
   ]
  },
  {
   "cell_type": "markdown",
   "metadata": {},
   "source": [
    "*Média, Mediana e Desvio Padrão (e o Boxplot) dos atores ingleses que venceram o Oscar:*"
   ]
  },
  {
   "cell_type": "code",
   "execution_count": 44,
   "metadata": {
    "scrolled": false
   },
   "outputs": [
    {
     "name": "stdout",
     "output_type": "stream",
     "text": [
      "Média de todos os atores ingles vencedores do Oscar:  name    1.115385\n",
      "dtype: float64\n",
      "Mediana de todos os atores ingleses vencedores do Oscar:  name    1.0\n",
      "dtype: float64\n",
      "O Desvio Padrão de todos os atores ingleses vencedores do Oscar:  0.42893142461810535\n"
     ]
    },
    {
     "data": {
      "image/png": "[encoded data removed]",
      "text/plain": [
       "<Figure size 432x288 with 1 Axes>"
      ]
     },
     "metadata": {
      "needs_background": "light"
     },
     "output_type": "display_data"
    }
   ],
   "source": [
    "ator_eng_md = ator_eng.name.value_counts().to_frame().mean()\n",
    "ator_eng_med = ator_eng.name.value_counts().to_frame().median()\n",
    "ator_eng_dp = ator_eng.name.value_counts().to_frame().std()\n",
    "ator_eng_one = ator_eng_one.boxplot(column=\"name\")\n",
    "print(\"Média de todos os atores ingles vencedores do Oscar: \", ator_eng_md)\n",
    "print(\"Mediana de todos os atores ingleses vencedores do Oscar: \", ator_eng_med)\n",
    "print(\"O Desvio Padrão de todos os atores ingleses vencedores do Oscar: \", ator_dp)"
   ]
  },
  {
   "cell_type": "markdown",
   "metadata": {},
   "source": [
    "*Média, Mediana e Desvio Padrão (e o Boxplot) dos filmes que contém o Oscar de Melhor Ator ou Melhor Atriz e dos filmes que se consagram com os dois:*"
   ]
  },
  {
   "cell_type": "markdown",
   "metadata": {},
   "source": [
    "*Filmes Totais:*"
   ]
  },
  {
   "cell_type": "code",
   "execution_count": 31,
   "metadata": {
    "scrolled": true
   },
   "outputs": [
    {
     "name": "stdout",
     "output_type": "stream",
     "text": [
      "Média dos filmes: movie    1.027933\n",
      "dtype: float64\n",
      "Mediana dos filmes: movie    1.0\n",
      "dtype: float64\n",
      "O Desvio Padrão dos filmes movie    0.165243\n",
      "dtype: float64\n"
     ]
    },
    {
     "data": {
      "image/png": "[encoded data removed]",
      "text/plain": [
       "<Figure size 432x288 with 1 Axes>"
      ]
     },
     "metadata": {
      "needs_background": "light"
     },
     "output_type": "display_data"
    }
   ],
   "source": [
    "mov_md = film.movie.value_counts().to_frame().mean()\n",
    "mov_med = film.movie.value_counts().to_frame().median()\n",
    "mov_dp = film.movie.value_counts().to_frame().std()\n",
    "mov = mov.boxplot(column=\"movie\")\n",
    "print(\"Média dos filmes:\", mov_md)\n",
    "print(\"Mediana dos filmes:\", mov_med)\n",
    "print(\"O Desvio Padrão dos filmes\", mov_dp)"
   ]
  },
  {
   "cell_type": "markdown",
   "metadata": {},
   "source": [
    "**Filmes que contém o Oscar de Melhor Ator e Melhor Atriz:**\n",
    "\n",
    "Obs: *Como traçado uma linha entre 2 dois parametros (Oscar de Melhor Ator e Melhor Atriz), os filmes a seguir por lógica caíriam em média, mediana e desvio padrão único, único e nulo, respectivamente.* \n",
    "\n",
    "*Média, Mediana e Desvio Padrão:*"
   ]
  },
  {
   "cell_type": "code",
   "execution_count": 33,
   "metadata": {
    "scrolled": true
   },
   "outputs": [
    {
     "data": {
      "text/html": [
       "<div>\n",
       "<style scoped>\n",
       "    .dataframe tbody tr th:only-of-type {\n",
       "        vertical-align: middle;\n",
       "    }\n",
       "\n",
       "    .dataframe tbody tr th {\n",
       "        vertical-align: top;\n",
       "    }\n",
       "\n",
       "    .dataframe thead th {\n",
       "        text-align: right;\n",
       "    }\n",
       "</style>\n",
       "<table border=\"1\" class=\"dataframe\">\n",
       "  <thead>\n",
       "    <tr style=\"text-align: right;\">\n",
       "      <th></th>\n",
       "      <th>movie</th>\n",
       "    </tr>\n",
       "  </thead>\n",
       "  <tbody>\n",
       "    <tr>\n",
       "      <th>Network</th>\n",
       "      <td>2</td>\n",
       "    </tr>\n",
       "    <tr>\n",
       "      <th>On Golden Pond</th>\n",
       "      <td>2</td>\n",
       "    </tr>\n",
       "    <tr>\n",
       "      <th>The Silence of the Lambs</th>\n",
       "      <td>2</td>\n",
       "    </tr>\n",
       "    <tr>\n",
       "      <th>Coming Home</th>\n",
       "      <td>2</td>\n",
       "    </tr>\n",
       "    <tr>\n",
       "      <th>It Happened One Night</th>\n",
       "      <td>2</td>\n",
       "    </tr>\n",
       "  </tbody>\n",
       "</table>\n",
       "</div>"
      ],
      "text/plain": [
       "                          movie\n",
       "Network                       2\n",
       "On Golden Pond                2\n",
       "The Silence of the Lambs      2\n",
       "Coming Home                   2\n",
       "It Happened One Night         2"
      ]
     },
     "execution_count": 33,
     "metadata": {},
     "output_type": "execute_result"
    }
   ],
   "source": [
    "mov = film.movie.value_counts().to_frame()\n",
    "mov_one = mov.loc[mov.movie >1, [\"movie\"]]\n",
    "mov_one"
   ]
  },
  {
   "cell_type": "code",
   "execution_count": 35,
   "metadata": {},
   "outputs": [
    {
     "name": "stdout",
     "output_type": "stream",
     "text": [
      "Média dos filmes: movie    5.0\n",
      "dtype: float64\n",
      "Mediana dos filmes: movie    5.0\n",
      "dtype: float64\n",
      "O Desvio Padrão dos filmes 0   NaN\n",
      "dtype: float64\n"
     ]
    },
    {
     "data": {
      "image/png": "[encoded data removed]",
      "text/plain": [
       "<Figure size 432x288 with 1 Axes>"
      ]
     },
     "metadata": {
      "needs_background": "light"
     },
     "output_type": "display_data"
    }
   ],
   "source": [
    "mov_md = mov_one.movie.value_counts().to_frame().mean()\n",
    "mov_med = mov_one.movie.value_counts().to_frame().median()\n",
    "mov_dp = mov_one.value_counts().to_frame().std()\n",
    "mov_one = mov_one.boxplot(column=\"movie\")\n",
    "print(\"Média dos filmes:\", mov_md)\n",
    "print(\"Mediana dos filmes:\", mov_med)\n",
    "print(\"O Desvio Padrão dos filmes\", mov_dp)"
   ]
  },
  {
   "cell_type": "markdown",
   "metadata": {},
   "source": [
    "**CONCLUSÃO:**\n",
    "\n",
    "   Após todas as etapas, os dados mostraram que em 90 anos (1929 - 2019) um total de 158 atores venceram a premiação do Oscar. Porém, apenas 22 atores ganharam mais de uma vez o Oscar de Melhor Ator/Atriz. Os únicos que venceram mais de duas vezes foram Katharine Hepburn e Daniel Day-Lewis, com 4 e 3 Oscars, respectivamente. Sendo um inglês, Daniel Day-Lewis faz parte de um total de 26 atores ingleses a levar a estueta.\n",
    "   \n",
    "  Ao decorrer dos anos diversos filmes foram premiados, dentre as mais variadas categorias, Melhor Filme; Melhor Ator; Melhor Atriz; Melhor Diretor etc...\n",
    "     Entretanto, apenas cinco se consagram como vencendo Oscar de Melhor Ator e Melhor Atriz. Sendo eles: Coming Home(1978), It Happened One Night(1934), On Golden Pond(1981), The Silence of the Lambs(1991), Network(1976).*"
   ]
  }
 ],
 "metadata": {
  "kernelspec": {
   "display_name": "Python 3",
   "language": "python",
   "name": "python3"
  },
  "language_info": {
   "codemirror_mode": {
    "name": "ipython",
    "version": 3
   },
   "file_extension": ".py",
   "mimetype": "text/x-python",
   "name": "python",
   "nbconvert_exporter": "python",
   "pygments_lexer": "ipython3",
   "version": "3.8.5"
  }
 },
 "nbformat": 4,
 "nbformat_minor": 4
}
